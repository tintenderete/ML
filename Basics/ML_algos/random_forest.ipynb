{
 "cells": [
  {
   "attachments": {},
   "cell_type": "markdown",
   "metadata": {},
   "source": [
    "Random Forest es un algoritmo de aprendizaje automático basado en árboles de decisión. \n",
    "\n",
    "La idea principal detrás de Random Forest es combinar varios árboles de decisión para crear un modelo más robusto y preciso. \n",
    "\n",
    "# Esto se logra mediante la construcción de múltiples árboles de decisión en paralelo, donde cada árbol es entrenado con un subconjunto aleatorio de las características y de las muestras del conjunto de datos.\n",
    "\n",
    "En el momento de hacer una predicción, Random Forest combina las predicciones de cada uno de los árboles y selecciona la predicción más frecuente o se realiza una votación para determinar la predicción final. De esta forma, se minimiza la posibilidad de que un árbol individual cause un sobreajuste o tenga una mala performance, lo que puede ser frecuente en árboles de decisión."
   ]
  },
  {
   "cell_type": "code",
   "execution_count": 1,
   "metadata": {},
   "outputs": [
    {
     "name": "stdout",
     "output_type": "stream",
     "text": [
      "Accuracy: 0.9333333333333333\n"
     ]
    }
   ],
   "source": [
    "from sklearn.datasets import load_iris\n",
    "from sklearn.ensemble import RandomForestClassifier\n",
    "from sklearn.model_selection import train_test_split\n",
    "\n",
    "# Cargamos el dataset\n",
    "iris = load_iris()\n",
    "X = iris.data\n",
    "y = iris.target\n",
    "\n",
    "# Dividimos en train y test\n",
    "X_train, X_test, y_train, y_test = train_test_split(X, y, test_size=0.3)\n",
    "\n",
    "# Entrenamos el modelo\n",
    "model = RandomForestClassifier()\n",
    "model.fit(X_train, y_train)\n",
    "\n",
    "# Hacemos las predicciones\n",
    "y_pred = model.predict(X_test)\n",
    "\n",
    "# Evaluamos el modelo\n",
    "score = model.score(X_test, y_test)\n",
    "print(\"Accuracy:\", score)\n"
   ]
  },
  {
   "cell_type": "code",
   "execution_count": 2,
   "metadata": {},
   "outputs": [
    {
     "name": "stdout",
     "output_type": "stream",
     "text": [
      "El score es: 0.26865181564422547\n"
     ]
    }
   ],
   "source": [
    "import sklearn\n",
    "from sklearn.ensemble import RandomForestRegressor\n",
    "\n",
    "from sklearn.model_selection import train_test_split\n",
    "\n",
    "# Cargamos el conjunto de datos boston\n",
    "data = sklearn.datasets.load_diabetes()\n",
    "X = data.data\n",
    "y = data.target\n",
    "\n",
    "# Dividimos los datos en un conjunto de entrenamiento y un conjunto de prueba\n",
    "X_train, X_test, y_train, y_test = train_test_split(X, y, test_size=0.2, random_state=0)\n",
    "\n",
    "# Instanciamos el regresor RandomForestRegressor\n",
    "regressor = RandomForestRegressor(n_estimators=100, random_state=0)\n",
    "\n",
    "# Entrenamos el modelo\n",
    "regressor.fit(X_train, y_train)\n",
    "\n",
    "# Hacemos predicciones en el conjunto de prueba\n",
    "y_pred = regressor.predict(X_test)\n",
    "\n",
    "# Evaluamos el desempeño del modelo\n",
    "score = regressor.score(X_test, y_test)\n",
    "print(\"El score es:\", score)\n"
   ]
  },
  {
   "cell_type": "code",
   "execution_count": 3,
   "metadata": {},
   "outputs": [
    {
     "data": {
      "text/plain": [
       "(89,)"
      ]
     },
     "execution_count": 3,
     "metadata": {},
     "output_type": "execute_result"
    }
   ],
   "source": [
    "y_pred.shape"
   ]
  },
  {
   "cell_type": "code",
   "execution_count": 4,
   "metadata": {},
   "outputs": [
    {
     "data": {
      "text/plain": [
       "(12.4910620502462, 71.6095456584908, 154.22471910112358)"
      ]
     },
     "execution_count": 4,
     "metadata": {},
     "output_type": "execute_result"
    }
   ],
   "source": [
    "import numpy as np\n",
    "np.square((y_test - y_pred).mean()), y_test.std(),  y_test.mean() "
   ]
  },
  {
   "cell_type": "code",
   "execution_count": 10,
   "metadata": {},
   "outputs": [
    {
     "data": {
      "text/plain": [
       "1111.7045224719118"
      ]
     },
     "execution_count": 10,
     "metadata": {},
     "output_type": "execute_result"
    }
   ],
   "source": [
    "np.square((y_test - y_pred).sum()) / y_test.shape[0]"
   ]
  },
  {
   "cell_type": "code",
   "execution_count": null,
   "metadata": {},
   "outputs": [
    {
     "data": {
      "text/plain": [
       "(array([13., 12., 12., 13., 12.,  7.,  7.,  4.,  5.,  4.]),\n",
       " array([ 47. ,  74.4, 101.8, 129.2, 156.6, 184. , 211.4, 238.8, 266.2,\n",
       "        293.6, 321. ]),\n",
       " <BarContainer object of 10 artists>)"
      ]
     },
     "execution_count": 35,
     "metadata": {},
     "output_type": "execute_result"
    },
    {
     "data": {
      "image/png": "[encoded data removed]",
      "text/plain": [
       "<Figure size 640x480 with 1 Axes>"
      ]
     },
     "metadata": {},
     "output_type": "display_data"
    }
   ],
   "source": [
    "import matplotlib.pyplot as plt\n",
    "plt.hist(y_test)"
   ]
  }
 ],
 "metadata": {
  "kernelspec": {
   "display_name": "GPU_venv",
   "language": "python",
   "name": "python3"
  },
  "language_info": {
   "codemirror_mode": {
    "name": "ipython",
    "version": 3
   },
   "file_extension": ".py",
   "mimetype": "text/x-python",
   "name": "python",
   "nbconvert_exporter": "python",
   "pygments_lexer": "ipython3",
   "version": "3.9.13"
  },
  "orig_nbformat": 4,
  "vscode": {
   "interpreter": {
    "hash": "a1cd3b8c43bb714655c50d2c914e75dce43e40f1ba4eee993a2945202c4315a7"
   }
  }
 },
 "nbformat": 4,
 "nbformat_minor": 2
}
