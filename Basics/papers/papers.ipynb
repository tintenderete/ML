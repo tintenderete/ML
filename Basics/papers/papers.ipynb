{
 "cells": [
  {
   "cell_type": "markdown",
   "metadata": {},
   "source": [
    "Hay muchos papers excelentes sobre aprendizaje automático (ML) que se han publicado a lo largo de los años, pero aquí hay algunos que se consideran particularmente importantes y fundamentales:\n",
    "\n",
    "\"A Few Useful Things to Know About Machine Learning\" de Pedro Domingos: Este artículo presenta una introducción accesible y útil al aprendizaje automático, y describe algunos conceptos clave y trucos que son importantes para entender antes de comenzar a trabajar en el campo.\n",
    "\n",
    "\"Gradient-Based Learning Applied to Document Recognition\" de Yann LeCun, Léon Bottou, Yoshua Bengio, y Patrick Haffner: Este artículo describe la red neuronal convolucional (CNN), una arquitectura de red neuronal profunda que ha demostrado ser muy efectiva en la clasificación de imágenes y en otras tareas relacionadas con la visión por computadora.\n",
    "\n",
    "\"Deep Residual Learning for Image Recognition\" de Kaiming He, Xiangyu Zhang, Shaoqing Ren, y Jian Sun: Este artículo presenta una arquitectura de red neuronal profunda llamada ResNet que ha demostrado ser muy efectiva en la clasificación de imágenes, y que ha sido la base de muchos avances posteriores en el campo.\n",
    "\n",
    "\"Generative Adversarial Nets\" de Ian Goodfellow, Jean Pouget-Abadie, Mehdi Mirza, Bing Xu, David Warde-Farley, Sherjil Ozair, Aaron Courville, y Yoshua Bengio: Este artículo presenta una arquitectura de red neuronal llamada GAN, que ha demostrado ser muy efectiva en la generación de imágenes y otras tareas de generación de datos.\n",
    "\n",
    "\"Attention Is All You Need\" de Ashish Vaswani, Noam Shazeer, Niki Parmar, Jakob Uszkoreit, Llion Jones, Aidan N. Gomez, Łukasz Kaiser, y Illia Polosukhin: Este artículo presenta una arquitectura de red neuronal llamada Transformer que ha sido fundamental en el avance del procesamiento del lenguaje natural, y que ha sido la base de muchos modelos de lenguaje de última generación.\n",
    "\n",
    "Estos son solo algunos de los muchos papers importantes en el campo del aprendizaje automático. Hay muchos otros que son igualmente importantes y que vale la pena leer para tener una comprensión completa del campo."
   ]
  }
 ],
 "metadata": {
  "language_info": {
   "name": "python"
  },
  "orig_nbformat": 4
 },
 "nbformat": 4,
 "nbformat_minor": 2
}
