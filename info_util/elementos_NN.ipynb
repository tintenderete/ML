{
 "cells": [
  {
   "attachments": {},
   "cell_type": "markdown",
   "metadata": {},
   "source": [
    "----------------- FUNCION DE COSTE -----------------\n",
    "\n",
    "- Error Cuadratico\n",
    "- Cross entropy\n",
    "- Funcion de activacion Sigmoide\n",
    "- Cross-entropy (la mejor cuando las unidades de salida son sigmomides)\n",
    "- Maxima verosimilitud+\n",
    "- Hinge loss (SVM)\n",
    "\n",
    "FUNCION DE COSTE EN KERAS\n",
    "\n",
    "- Categorical cross-entropy\n",
    "- Binary cross-entropy\n",
    "- Mean Squared Error\n",
    "- Hinge-loss\n"
   ]
  },
  {
   "attachments": {},
   "cell_type": "markdown",
   "metadata": {},
   "source": [
    "----------------- FUNCION DE ACTIVACION -----------------\n",
    "\n",
    "SALIDA BINARIA:\n",
    "    - Sigmoide\n",
    "\n",
    "PROBLEMA MULTICLASE:\n",
    "    - Softmax\n",
    "\n",
    "REGRESION LINEAL:\n",
    "    - Salida Gausiana\n",
    "\n",
    "- Tanh\n",
    "- Relu ( Rectificador Lineal) ( La mas usada en la actualidad)\n",
    "- Softplus\n",
    "- ELU\n",
    "- SELU"
   ]
  },
  {
   "attachments": {},
   "cell_type": "markdown",
   "metadata": {},
   "source": [
    "----------------- REGULARIZACION ----------------- \n",
    "\n",
    "- NO QUEREMOS OVERFITTING  \n",
    "- Podemos utilizar early stopping\n",
    "\n",
    "- Regularizacion L1:     \n",
    "    esta capa agrega una penalización a la función de pérdida del modelo que es proporcional al valor absoluto de los pesos de la capa. Esto puede ayudar a reducir la cantidad de pesos grandes en el modelo y evitar el sobreajuste.\n",
    "\n",
    "- Regularizacion L2: \n",
    "    esta capa agrega una penalización a la función de pérdida del modelo que es proporcional al cuadrado de los pesos de la capa. Esto puede ayudar a suavizar los pesos del modelo y evitar el sobreajuste.\n",
    "    \n",
    "- Dropout: \n",
    "    esta capa aleatoriamente \"apaga\" un porcentaje de neuronas en cada iteración del entrenamiento. Esto puede ayudar a evitar que el modelo se sobreajuste a los datos de entrenamiento y mejorar su capacidad para generalizar.\n"
   ]
  },
  {
   "attachments": {},
   "cell_type": "markdown",
   "metadata": {},
   "source": [
    "----------------- INICIALIZACION PESOS -----------------\n",
    "\n",
    "- Xavier\n",
    "- N(0, Raiz(2/numero_unidades)) , para neurona Relu\n",
    "- Batch Normalization"
   ]
  },
  {
   "attachments": {},
   "cell_type": "markdown",
   "metadata": {},
   "source": [
    "----------------- OPTIMIZADOR -----------------\n",
    "\n",
    "- Descnso por gradiente SGD\n",
    "- Adam\n",
    "- Grid search vs random search\n"
   ]
  }
 ],
 "metadata": {
  "kernelspec": {
   "display_name": "base",
   "language": "python",
   "name": "python3"
  },
  "language_info": {
   "name": "python",
   "version": "3.9.7 (default, Sep 16 2021, 16:59:28) [MSC v.1916 64 bit (AMD64)]"
  },
  "orig_nbformat": 4,
  "vscode": {
   "interpreter": {
    "hash": "c4b873e07bceb12c2b9a42b36e7722015039dfeed477cfe3ebf1d2c97eb81cf7"
   }
  }
 },
 "nbformat": 4,
 "nbformat_minor": 2
}
