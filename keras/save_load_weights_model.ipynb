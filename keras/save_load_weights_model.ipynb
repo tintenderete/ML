{
 "cells": [
  {
   "cell_type": "code",
   "execution_count": 1,
   "metadata": {},
   "outputs": [],
   "source": [
    "import tensorflow as tf\n",
    "from tensorflow import keras\n",
    "from sklearn.metrics import confusion_matrix\n",
    "\n",
    "import numpy as np\n",
    "import matplotlib.pyplot as plt\n",
    "from time import time\n",
    "import shutil"
   ]
  },
  {
   "cell_type": "code",
   "execution_count": 11,
   "metadata": {},
   "outputs": [],
   "source": [
    "(train_images, train_labels), (test_images, test_labels) = tf.keras.datasets.mnist.load_data()\n",
    "train_images = train_images / 255\n",
    "test_images = test_images / 255\n",
    "\n",
    "mean_img = train_images.mean(axis=0)\n",
    "train_images = train_images - mean_img\n",
    "test_images = test_images - mean_img"
   ]
  },
  {
   "cell_type": "code",
   "execution_count": 12,
   "metadata": {},
   "outputs": [
    {
     "name": "stdout",
     "output_type": "stream",
     "text": [
      "Epoch 1/100\n",
      "60/60 [==============================] - 2s 20ms/step - loss: 2.3677 - acc: 0.1283 - val_loss: 2.2870 - val_acc: 0.1711\n",
      "Epoch 2/100\n",
      "60/60 [==============================] - 1s 12ms/step - loss: 2.2412 - acc: 0.2342 - val_loss: 2.1943 - val_acc: 0.2828\n",
      "Epoch 3/100\n",
      "60/60 [==============================] - 1s 11ms/step - loss: 2.1642 - acc: 0.3017 - val_loss: 2.1281 - val_acc: 0.3472\n",
      "Epoch 4/100\n",
      "60/60 [==============================] - 1s 11ms/step - loss: 2.1042 - acc: 0.3853 - val_loss: 2.0718 - val_acc: 0.4460\n",
      "Epoch 5/100\n",
      "60/60 [==============================] - 1s 11ms/step - loss: 2.0511 - acc: 0.4838 - val_loss: 2.0200 - val_acc: 0.5330\n",
      "Epoch 6/100\n",
      "60/60 [==============================] - 1s 11ms/step - loss: 2.0011 - acc: 0.5572 - val_loss: 1.9704 - val_acc: 0.5956\n",
      "Epoch 7/100\n",
      "60/60 [==============================] - 1s 11ms/step - loss: 1.9528 - acc: 0.6076 - val_loss: 1.9221 - val_acc: 0.6375\n",
      "Epoch 8/100\n",
      "60/60 [==============================] - 1s 11ms/step - loss: 1.9056 - acc: 0.6421 - val_loss: 1.8749 - val_acc: 0.6653\n",
      "Epoch 9/100\n",
      "60/60 [==============================] - 1s 11ms/step - loss: 1.8594 - acc: 0.6652 - val_loss: 1.8285 - val_acc: 0.6879\n",
      "Epoch 10/100\n",
      "60/60 [==============================] - 1s 11ms/step - loss: 1.8140 - acc: 0.6831 - val_loss: 1.7831 - val_acc: 0.7041\n",
      "Epoch 11/100\n",
      "60/60 [==============================] - 1s 11ms/step - loss: 1.7696 - acc: 0.6965 - val_loss: 1.7386 - val_acc: 0.7155\n",
      "Epoch 12/100\n",
      "60/60 [==============================] - 1s 11ms/step - loss: 1.7260 - acc: 0.7071 - val_loss: 1.6950 - val_acc: 0.7261\n",
      "Epoch 13/100\n",
      "60/60 [==============================] - 1s 11ms/step - loss: 1.6834 - acc: 0.7170 - val_loss: 1.6525 - val_acc: 0.7360\n",
      "Epoch 14/100\n",
      "60/60 [==============================] - 1s 11ms/step - loss: 1.6418 - acc: 0.7248 - val_loss: 1.6110 - val_acc: 0.7417\n",
      "Epoch 15/100\n",
      "60/60 [==============================] - 1s 11ms/step - loss: 1.6013 - acc: 0.7316 - val_loss: 1.5707 - val_acc: 0.7472\n",
      "Epoch 16/100\n",
      "60/60 [==============================] - 1s 11ms/step - loss: 1.5619 - acc: 0.7380 - val_loss: 1.5315 - val_acc: 0.7519\n",
      "Epoch 17/100\n",
      "60/60 [==============================] - 1s 11ms/step - loss: 1.5237 - acc: 0.7434 - val_loss: 1.4936 - val_acc: 0.7581\n",
      "Epoch 18/100\n",
      "60/60 [==============================] - 1s 12ms/step - loss: 1.4867 - acc: 0.7492 - val_loss: 1.4568 - val_acc: 0.7639\n",
      "Epoch 19/100\n",
      "60/60 [==============================] - 1s 11ms/step - loss: 1.4509 - acc: 0.7546 - val_loss: 1.4213 - val_acc: 0.7670\n",
      "Epoch 20/100\n",
      "60/60 [==============================] - 1s 11ms/step - loss: 1.4163 - acc: 0.7587 - val_loss: 1.3871 - val_acc: 0.7697\n",
      "Epoch 21/100\n",
      "60/60 [==============================] - 1s 11ms/step - loss: 1.3829 - acc: 0.7631 - val_loss: 1.3541 - val_acc: 0.7745\n",
      "Epoch 22/100\n",
      "60/60 [==============================] - 1s 11ms/step - loss: 1.3508 - acc: 0.7667 - val_loss: 1.3224 - val_acc: 0.7781\n",
      "Epoch 23/100\n",
      "60/60 [==============================] - 1s 11ms/step - loss: 1.3199 - acc: 0.7703 - val_loss: 1.2919 - val_acc: 0.7817\n",
      "Epoch 24/100\n",
      "60/60 [==============================] - 1s 11ms/step - loss: 1.2903 - acc: 0.7736 - val_loss: 1.2626 - val_acc: 0.7854\n",
      "Epoch 25/100\n",
      "60/60 [==============================] - 1s 11ms/step - loss: 1.2618 - acc: 0.7777 - val_loss: 1.2345 - val_acc: 0.7885\n",
      "Epoch 26/100\n",
      "60/60 [==============================] - 1s 11ms/step - loss: 1.2344 - acc: 0.7806 - val_loss: 1.2076 - val_acc: 0.7920\n",
      "Epoch 27/100\n",
      "60/60 [==============================] - 1s 11ms/step - loss: 1.2082 - acc: 0.7831 - val_loss: 1.1817 - val_acc: 0.7959\n",
      "Epoch 28/100\n",
      "60/60 [==============================] - 1s 11ms/step - loss: 1.1830 - acc: 0.7865 - val_loss: 1.1569 - val_acc: 0.7981\n",
      "Epoch 29/100\n",
      "60/60 [==============================] - 1s 11ms/step - loss: 1.1589 - acc: 0.7892 - val_loss: 1.1332 - val_acc: 0.8011\n",
      "Epoch 30/100\n",
      "60/60 [==============================] - 1s 12ms/step - loss: 1.1358 - acc: 0.7915 - val_loss: 1.1104 - val_acc: 0.8046\n",
      "Epoch 31/100\n",
      "60/60 [==============================] - 1s 11ms/step - loss: 1.1136 - acc: 0.7943 - val_loss: 1.0886 - val_acc: 0.8065\n",
      "Epoch 32/100\n",
      "60/60 [==============================] - 1s 10ms/step - loss: 1.0923 - acc: 0.7969 - val_loss: 1.0677 - val_acc: 0.8095\n",
      "Epoch 33/100\n",
      "60/60 [==============================] - 1s 11ms/step - loss: 1.0720 - acc: 0.8005 - val_loss: 1.0476 - val_acc: 0.8120\n",
      "Epoch 34/100\n",
      "60/60 [==============================] - 1s 11ms/step - loss: 1.0525 - acc: 0.8028 - val_loss: 1.0284 - val_acc: 0.8144\n",
      "Epoch 35/100\n",
      "60/60 [==============================] - 1s 12ms/step - loss: 1.0337 - acc: 0.8043 - val_loss: 1.0100 - val_acc: 0.8159\n",
      "Epoch 36/100\n",
      "60/60 [==============================] - 1s 11ms/step - loss: 1.0158 - acc: 0.8068 - val_loss: 0.9923 - val_acc: 0.8182\n",
      "Epoch 37/100\n",
      "60/60 [==============================] - 1s 11ms/step - loss: 0.9985 - acc: 0.8090 - val_loss: 0.9753 - val_acc: 0.8195\n",
      "Epoch 38/100\n",
      "60/60 [==============================] - 1s 10ms/step - loss: 0.9820 - acc: 0.8112 - val_loss: 0.9590 - val_acc: 0.8205\n",
      "Epoch 39/100\n",
      "60/60 [==============================] - 1s 10ms/step - loss: 0.9661 - acc: 0.8136 - val_loss: 0.9434 - val_acc: 0.8225\n",
      "Epoch 40/100\n",
      "60/60 [==============================] - 1s 11ms/step - loss: 0.9508 - acc: 0.8154 - val_loss: 0.9283 - val_acc: 0.8250\n",
      "Epoch 41/100\n",
      "60/60 [==============================] - 1s 10ms/step - loss: 0.9362 - acc: 0.8170 - val_loss: 0.9139 - val_acc: 0.8266\n",
      "Epoch 42/100\n",
      "60/60 [==============================] - 1s 11ms/step - loss: 0.9220 - acc: 0.8192 - val_loss: 0.9000 - val_acc: 0.8282\n",
      "Epoch 43/100\n",
      "60/60 [==============================] - 1s 11ms/step - loss: 0.9085 - acc: 0.8209 - val_loss: 0.8866 - val_acc: 0.8294\n",
      "Epoch 44/100\n",
      "60/60 [==============================] - 1s 10ms/step - loss: 0.8954 - acc: 0.8229 - val_loss: 0.8737 - val_acc: 0.8308\n",
      "Epoch 45/100\n",
      "60/60 [==============================] - 1s 11ms/step - loss: 0.8828 - acc: 0.8251 - val_loss: 0.8613 - val_acc: 0.8332\n",
      "Epoch 46/100\n",
      "60/60 [==============================] - 1s 10ms/step - loss: 0.8707 - acc: 0.8267 - val_loss: 0.8493 - val_acc: 0.8351\n",
      "Epoch 47/100\n",
      "60/60 [==============================] - 1s 11ms/step - loss: 0.8590 - acc: 0.8285 - val_loss: 0.8378 - val_acc: 0.8363\n",
      "Epoch 48/100\n",
      "60/60 [==============================] - 1s 11ms/step - loss: 0.8477 - acc: 0.8299 - val_loss: 0.8267 - val_acc: 0.8373\n",
      "Epoch 49/100\n",
      "60/60 [==============================] - 1s 10ms/step - loss: 0.8368 - acc: 0.8315 - val_loss: 0.8159 - val_acc: 0.8395\n",
      "Epoch 50/100\n",
      "60/60 [==============================] - 1s 10ms/step - loss: 0.8263 - acc: 0.8329 - val_loss: 0.8056 - val_acc: 0.8407\n",
      "Epoch 51/100\n",
      "60/60 [==============================] - 1s 10ms/step - loss: 0.8162 - acc: 0.8342 - val_loss: 0.7956 - val_acc: 0.8419\n",
      "Epoch 52/100\n",
      "60/60 [==============================] - 1s 10ms/step - loss: 0.8063 - acc: 0.8355 - val_loss: 0.7859 - val_acc: 0.8434\n",
      "Epoch 53/100\n",
      "60/60 [==============================] - 1s 10ms/step - loss: 0.7968 - acc: 0.8366 - val_loss: 0.7765 - val_acc: 0.8450\n",
      "Epoch 54/100\n",
      "60/60 [==============================] - 1s 10ms/step - loss: 0.7877 - acc: 0.8378 - val_loss: 0.7674 - val_acc: 0.8448\n",
      "Epoch 55/100\n",
      "60/60 [==============================] - 1s 11ms/step - loss: 0.7788 - acc: 0.8388 - val_loss: 0.7587 - val_acc: 0.8453\n",
      "Epoch 56/100\n",
      "60/60 [==============================] - 1s 10ms/step - loss: 0.7702 - acc: 0.8400 - val_loss: 0.7502 - val_acc: 0.8463\n",
      "Epoch 57/100\n",
      "60/60 [==============================] - 1s 10ms/step - loss: 0.7619 - acc: 0.8414 - val_loss: 0.7419 - val_acc: 0.8465\n",
      "Epoch 58/100\n",
      "60/60 [==============================] - 1s 11ms/step - loss: 0.7538 - acc: 0.8423 - val_loss: 0.7340 - val_acc: 0.8479\n",
      "Epoch 59/100\n",
      "60/60 [==============================] - 1s 10ms/step - loss: 0.7459 - acc: 0.8431 - val_loss: 0.7262 - val_acc: 0.8486\n",
      "Epoch 60/100\n",
      "60/60 [==============================] - 1s 10ms/step - loss: 0.7384 - acc: 0.8443 - val_loss: 0.7187 - val_acc: 0.8494\n",
      "Epoch 61/100\n",
      "60/60 [==============================] - 1s 10ms/step - loss: 0.7310 - acc: 0.8454 - val_loss: 0.7114 - val_acc: 0.8500\n",
      "Epoch 62/100\n",
      "60/60 [==============================] - 1s 10ms/step - loss: 0.7238 - acc: 0.8465 - val_loss: 0.7044 - val_acc: 0.8508\n",
      "Epoch 63/100\n",
      "60/60 [==============================] - 1s 10ms/step - loss: 0.7169 - acc: 0.8472 - val_loss: 0.6975 - val_acc: 0.8521\n",
      "Epoch 64/100\n",
      "60/60 [==============================] - 1s 10ms/step - loss: 0.7101 - acc: 0.8479 - val_loss: 0.6908 - val_acc: 0.8529\n",
      "Epoch 65/100\n",
      "60/60 [==============================] - 1s 10ms/step - loss: 0.7036 - acc: 0.8489 - val_loss: 0.6843 - val_acc: 0.8543\n",
      "Epoch 66/100\n",
      "60/60 [==============================] - 1s 10ms/step - loss: 0.6972 - acc: 0.8495 - val_loss: 0.6780 - val_acc: 0.8555\n",
      "Epoch 67/100\n",
      "60/60 [==============================] - 1s 10ms/step - loss: 0.6910 - acc: 0.8502 - val_loss: 0.6719 - val_acc: 0.8567\n",
      "Epoch 68/100\n",
      "60/60 [==============================] - 1s 11ms/step - loss: 0.6849 - acc: 0.8510 - val_loss: 0.6659 - val_acc: 0.8576\n",
      "Epoch 69/100\n",
      "60/60 [==============================] - 1s 11ms/step - loss: 0.6790 - acc: 0.8519 - val_loss: 0.6601 - val_acc: 0.8587\n",
      "Epoch 70/100\n",
      "60/60 [==============================] - 1s 12ms/step - loss: 0.6733 - acc: 0.8528 - val_loss: 0.6544 - val_acc: 0.8599\n",
      "Epoch 71/100\n",
      "60/60 [==============================] - 1s 11ms/step - loss: 0.6677 - acc: 0.8535 - val_loss: 0.6489 - val_acc: 0.8605\n",
      "Epoch 72/100\n",
      "60/60 [==============================] - 1s 11ms/step - loss: 0.6623 - acc: 0.8541 - val_loss: 0.6435 - val_acc: 0.8615\n",
      "Epoch 73/100\n",
      "60/60 [==============================] - 1s 11ms/step - loss: 0.6570 - acc: 0.8549 - val_loss: 0.6382 - val_acc: 0.8623\n",
      "Epoch 74/100\n",
      "60/60 [==============================] - 1s 11ms/step - loss: 0.6518 - acc: 0.8558 - val_loss: 0.6331 - val_acc: 0.8630\n",
      "Epoch 75/100\n",
      "60/60 [==============================] - 1s 11ms/step - loss: 0.6467 - acc: 0.8566 - val_loss: 0.6281 - val_acc: 0.8635\n",
      "Epoch 76/100\n",
      "60/60 [==============================] - 1s 11ms/step - loss: 0.6418 - acc: 0.8574 - val_loss: 0.6232 - val_acc: 0.8642\n",
      "Epoch 77/100\n",
      "60/60 [==============================] - 1s 11ms/step - loss: 0.6370 - acc: 0.8584 - val_loss: 0.6185 - val_acc: 0.8650\n",
      "Epoch 78/100\n",
      "60/60 [==============================] - 1s 11ms/step - loss: 0.6323 - acc: 0.8589 - val_loss: 0.6138 - val_acc: 0.8661\n",
      "Epoch 79/100\n",
      "60/60 [==============================] - 1s 11ms/step - loss: 0.6277 - acc: 0.8598 - val_loss: 0.6093 - val_acc: 0.8669\n",
      "Epoch 80/100\n",
      "60/60 [==============================] - 1s 11ms/step - loss: 0.6233 - acc: 0.8605 - val_loss: 0.6049 - val_acc: 0.8678\n",
      "Epoch 81/100\n",
      "60/60 [==============================] - 1s 11ms/step - loss: 0.6189 - acc: 0.8611 - val_loss: 0.6005 - val_acc: 0.8687\n",
      "Epoch 82/100\n",
      "60/60 [==============================] - 1s 11ms/step - loss: 0.6146 - acc: 0.8616 - val_loss: 0.5963 - val_acc: 0.8695\n",
      "Epoch 83/100\n",
      "60/60 [==============================] - 1s 11ms/step - loss: 0.6104 - acc: 0.8624 - val_loss: 0.5922 - val_acc: 0.8703\n",
      "Epoch 84/100\n",
      "60/60 [==============================] - 1s 11ms/step - loss: 0.6063 - acc: 0.8628 - val_loss: 0.5881 - val_acc: 0.8709\n",
      "Epoch 85/100\n",
      "60/60 [==============================] - 1s 11ms/step - loss: 0.6023 - acc: 0.8634 - val_loss: 0.5842 - val_acc: 0.8714\n",
      "Epoch 86/100\n",
      "60/60 [==============================] - 1s 11ms/step - loss: 0.5984 - acc: 0.8637 - val_loss: 0.5803 - val_acc: 0.8719\n",
      "Epoch 87/100\n",
      "60/60 [==============================] - 1s 11ms/step - loss: 0.5946 - acc: 0.8643 - val_loss: 0.5765 - val_acc: 0.8723\n",
      "Epoch 88/100\n",
      "60/60 [==============================] - 1s 11ms/step - loss: 0.5908 - acc: 0.8648 - val_loss: 0.5728 - val_acc: 0.8727\n",
      "Epoch 89/100\n",
      "60/60 [==============================] - 1s 11ms/step - loss: 0.5872 - acc: 0.8652 - val_loss: 0.5692 - val_acc: 0.8726\n",
      "Epoch 90/100\n",
      "60/60 [==============================] - 1s 11ms/step - loss: 0.5836 - acc: 0.8658 - val_loss: 0.5656 - val_acc: 0.8729\n",
      "Epoch 91/100\n",
      "60/60 [==============================] - 1s 11ms/step - loss: 0.5800 - acc: 0.8662 - val_loss: 0.5621 - val_acc: 0.8730\n",
      "Epoch 92/100\n",
      "60/60 [==============================] - 1s 11ms/step - loss: 0.5766 - acc: 0.8666 - val_loss: 0.5587 - val_acc: 0.8735\n",
      "Epoch 93/100\n",
      "60/60 [==============================] - 1s 10ms/step - loss: 0.5732 - acc: 0.8672 - val_loss: 0.5553 - val_acc: 0.8742\n",
      "Epoch 94/100\n",
      "60/60 [==============================] - 1s 11ms/step - loss: 0.5699 - acc: 0.8676 - val_loss: 0.5521 - val_acc: 0.8745\n",
      "Epoch 95/100\n",
      "60/60 [==============================] - 1s 11ms/step - loss: 0.5666 - acc: 0.8683 - val_loss: 0.5488 - val_acc: 0.8753\n",
      "Epoch 96/100\n",
      "60/60 [==============================] - 1s 11ms/step - loss: 0.5634 - acc: 0.8687 - val_loss: 0.5457 - val_acc: 0.8758\n",
      "Epoch 97/100\n",
      "60/60 [==============================] - 1s 11ms/step - loss: 0.5603 - acc: 0.8691 - val_loss: 0.5426 - val_acc: 0.8763\n",
      "Epoch 98/100\n",
      "60/60 [==============================] - 1s 11ms/step - loss: 0.5572 - acc: 0.8696 - val_loss: 0.5396 - val_acc: 0.8764\n",
      "Epoch 99/100\n",
      "60/60 [==============================] - 1s 11ms/step - loss: 0.5542 - acc: 0.8702 - val_loss: 0.5366 - val_acc: 0.8769\n",
      "Epoch 100/100\n",
      "60/60 [==============================] - 1s 10ms/step - loss: 0.5513 - acc: 0.8704 - val_loss: 0.5337 - val_acc: 0.8771\n"
     ]
    }
   ],
   "source": [
    "model = keras.Sequential()\n",
    "model.add(keras.layers.Flatten(input_shape=(28, 28), name=\"entrada\"))\n",
    "model.add(keras.layers.Dense(30, activation=\"sigmoid\", name=\"oculta\"))\n",
    "model.add(keras.layers.Dense(10, activation=\"softmax\", name=\"salida\"))\n",
    "\n",
    "model.compile(\n",
    "            optimizer   = keras.optimizers.SGD(learning_rate=0.01), \n",
    "            loss        = 'sparse_categorical_crossentropy',\n",
    "            metrics     =['acc']\n",
    "            )\n",
    "\n",
    "history = model.fit(train_images, \n",
    "                    train_labels, \n",
    "                    epochs=100, \n",
    "                    validation_data=(test_images, test_labels),\n",
    "                    batch_size=1000)"
   ]
  },
  {
   "cell_type": "code",
   "execution_count": 13,
   "metadata": {},
   "outputs": [
    {
     "name": "stdout",
     "output_type": "stream",
     "text": [
      "313/313 [==============================] - 1s 4ms/step - loss: 0.5337 - acc: 0.8771\n",
      "Loss on test set = 0.533656\n",
      "Accuracy on test set = 0.877100\n"
     ]
    }
   ],
   "source": [
    "loss_test, acc_test = model.evaluate(test_images, test_labels)\n",
    "print(\"Loss on test set = %f\" % (loss_test))\n",
    "print(\"Accuracy on test set = %f\" % (acc_test))"
   ]
  },
  {
   "attachments": {},
   "cell_type": "markdown",
   "metadata": {},
   "source": [
    "GUARDAMOS PESOS"
   ]
  },
  {
   "cell_type": "code",
   "execution_count": 14,
   "metadata": {},
   "outputs": [],
   "source": [
    "model.save_weights('weights.h5')"
   ]
  },
  {
   "cell_type": "markdown",
   "metadata": {},
   "source": [
    "PROBAMOS PESOS"
   ]
  },
  {
   "cell_type": "code",
   "execution_count": 15,
   "metadata": {},
   "outputs": [],
   "source": [
    "model = keras.Sequential()\n",
    "model.add(keras.layers.Flatten(input_shape=(28, 28), name=\"entrada\"))\n",
    "model.add(keras.layers.Dense(30, activation=\"sigmoid\", name=\"oculta\"))\n",
    "model.add(keras.layers.Dense(10, activation=\"softmax\", name=\"salida\"))\n",
    "\n",
    "model.compile(\n",
    "            optimizer   = keras.optimizers.SGD(learning_rate=0.01), \n",
    "            loss        = 'sparse_categorical_crossentropy',\n",
    "            metrics     =['acc']\n",
    "            )"
   ]
  },
  {
   "cell_type": "code",
   "execution_count": 16,
   "metadata": {},
   "outputs": [],
   "source": [
    "model.load_weights('weights.h5')"
   ]
  },
  {
   "cell_type": "code",
   "execution_count": 17,
   "metadata": {},
   "outputs": [
    {
     "name": "stdout",
     "output_type": "stream",
     "text": [
      "313/313 [==============================] - 2s 4ms/step - loss: 0.5337 - acc: 0.8771\n",
      "Loss on test set = 0.533656\n",
      "Accuracy on test set = 0.877100\n"
     ]
    }
   ],
   "source": [
    "loss_test, acc_test = model.evaluate(test_images, test_labels)\n",
    "print(\"Loss on test set = %f\" % (loss_test))\n",
    "print(\"Accuracy on test set = %f\" % (acc_test))"
   ]
  },
  {
   "attachments": {},
   "cell_type": "markdown",
   "metadata": {},
   "source": [
    "GUARDAMOS MODELO"
   ]
  },
  {
   "cell_type": "code",
   "execution_count": 18,
   "metadata": {},
   "outputs": [],
   "source": [
    "model.save('modelo.h5')"
   ]
  },
  {
   "cell_type": "markdown",
   "metadata": {},
   "source": [
    "PROBAMOS MODELO"
   ]
  },
  {
   "cell_type": "code",
   "execution_count": 19,
   "metadata": {},
   "outputs": [],
   "source": [
    "model = keras.models.load_model('modelo.h5')"
   ]
  },
  {
   "cell_type": "code",
   "execution_count": 20,
   "metadata": {},
   "outputs": [
    {
     "name": "stdout",
     "output_type": "stream",
     "text": [
      "313/313 [==============================] - 1s 3ms/step - loss: 0.5337 - acc: 0.8771\n",
      "Loss on test set = 0.533656\n",
      "Accuracy on test set = 0.877100\n"
     ]
    }
   ],
   "source": [
    "loss_test, acc_test = model.evaluate(test_images, test_labels)\n",
    "print(\"Loss on test set = %f\" % (loss_test))\n",
    "print(\"Accuracy on test set = %f\" % (acc_test))"
   ]
  }
 ],
 "metadata": {
  "kernelspec": {
   "display_name": "ML_venv",
   "language": "python",
   "name": "python3"
  },
  "language_info": {
   "codemirror_mode": {
    "name": "ipython",
    "version": 3
   },
   "file_extension": ".py",
   "mimetype": "text/x-python",
   "name": "python",
   "nbconvert_exporter": "python",
   "pygments_lexer": "ipython3",
   "version": "3.9.13 (tags/v3.9.13:6de2ca5, May 17 2022, 16:36:42) [MSC v.1929 64 bit (AMD64)]"
  },
  "orig_nbformat": 4,
  "vscode": {
   "interpreter": {
    "hash": "8b7910abbc5c6beb5902f03ac29be5a7fa5349172c0e21aa9b268418c0a868e2"
   }
  }
 },
 "nbformat": 4,
 "nbformat_minor": 2
}
