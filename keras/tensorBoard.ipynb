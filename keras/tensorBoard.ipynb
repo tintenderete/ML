{
 "cells": [
  {
   "cell_type": "code",
   "execution_count": 1,
   "metadata": {},
   "outputs": [],
   "source": [
    "import tensorflow as tf\n",
    "from tensorflow import keras\n",
    "\n",
    "import numpy as np\n",
    "import matplotlib.pyplot as plt\n",
    "from time import time\n",
    "import shutil"
   ]
  },
  {
   "cell_type": "code",
   "execution_count": 2,
   "metadata": {},
   "outputs": [],
   "source": [
    "(train_images, train_labels), (test_images, test_labels) = tf.keras.datasets.mnist.load_data()\n",
    "train_images = train_images / 255\n",
    "test_images = test_images / 255\n",
    "mean_img = train_images.mean(axis=0)\n",
    "train_images = train_images - mean_img\n",
    "test_images = test_images - mean_img"
   ]
  },
  {
   "cell_type": "code",
   "execution_count": 3,
   "metadata": {},
   "outputs": [],
   "source": [
    "# Variables que no vamos a modificar\n",
    "log_dir = \"logs_tensor/\"\n",
    "input_shape = (28, 28)\n",
    "num_clases = 10\n",
    "n_epochs = 20\n",
    "\n",
    "LEARNING_RATE_BASE = 0.01\n",
    "LEARNING_RATE_SMALL = 0.0001\n",
    "LEARNING_RATE_BIG = 1.0\n",
    "\n",
    "BATCH_SIZE_BASE = 400\n",
    "BATCH_SIZE_BIG = 1000\n",
    "BATCH_SIZE_SMALL = 50\n",
    "\n",
    "# Caso base:\n",
    "batch_size = BATCH_SIZE_BASE\n",
    "learning_rate = LEARNING_RATE_BASE\n",
    "activation = 'sigmoid'\n",
    "loss = 'sparse_categorical_crossentropy'\n",
    "nombre = 'base'\n",
    "\n"
   ]
  },
  {
   "attachments": {},
   "cell_type": "markdown",
   "metadata": {},
   "source": [
    "MODELO 1"
   ]
  },
  {
   "cell_type": "code",
   "execution_count": 4,
   "metadata": {},
   "outputs": [
    {
     "name": "stdout",
     "output_type": "stream",
     "text": [
      "Epoch 1/20\n",
      "150/150 [==============================] - 3s 13ms/step - loss: 2.2416 - acc: 0.2497 - val_loss: 2.1271 - val_acc: 0.5073\n",
      "Epoch 2/20\n",
      "150/150 [==============================] - 1s 9ms/step - loss: 2.0485 - acc: 0.5821 - val_loss: 1.9650 - val_acc: 0.6410\n",
      "Epoch 3/20\n",
      "150/150 [==============================] - 1s 8ms/step - loss: 1.8946 - acc: 0.6618 - val_loss: 1.8139 - val_acc: 0.6994\n",
      "Epoch 4/20\n",
      "150/150 [==============================] - 1s 9ms/step - loss: 1.7505 - acc: 0.7031 - val_loss: 1.6729 - val_acc: 0.7282\n",
      "Epoch 5/20\n",
      "150/150 [==============================] - 1s 9ms/step - loss: 1.6165 - acc: 0.7298 - val_loss: 1.5422 - val_acc: 0.7535\n",
      "Epoch 6/20\n",
      "150/150 [==============================] - 1s 8ms/step - loss: 1.4936 - acc: 0.7504 - val_loss: 1.4235 - val_acc: 0.7712\n",
      "Epoch 7/20\n",
      "150/150 [==============================] - 1s 8ms/step - loss: 1.3823 - acc: 0.7663 - val_loss: 1.3166 - val_acc: 0.7856\n",
      "Epoch 8/20\n",
      "150/150 [==============================] - 1s 9ms/step - loss: 1.2826 - acc: 0.7810 - val_loss: 1.2216 - val_acc: 0.7969\n",
      "Epoch 9/20\n",
      "150/150 [==============================] - 1s 8ms/step - loss: 1.1944 - acc: 0.7921 - val_loss: 1.1379 - val_acc: 0.8060\n",
      "Epoch 10/20\n",
      "150/150 [==============================] - 1s 8ms/step - loss: 1.1167 - acc: 0.8027 - val_loss: 1.0646 - val_acc: 0.8125\n",
      "Epoch 11/20\n",
      "150/150 [==============================] - 1s 8ms/step - loss: 1.0487 - acc: 0.8084 - val_loss: 1.0004 - val_acc: 0.8231\n",
      "Epoch 12/20\n",
      "150/150 [==============================] - 1s 8ms/step - loss: 0.9892 - acc: 0.8169 - val_loss: 0.9444 - val_acc: 0.8280\n",
      "Epoch 13/20\n",
      "150/150 [==============================] - 1s 9ms/step - loss: 0.9370 - acc: 0.8232 - val_loss: 0.8952 - val_acc: 0.8325\n",
      "Epoch 14/20\n",
      "150/150 [==============================] - 1s 9ms/step - loss: 0.8913 - acc: 0.8282 - val_loss: 0.8521 - val_acc: 0.8379\n",
      "Epoch 15/20\n",
      "150/150 [==============================] - 1s 9ms/step - loss: 0.8509 - acc: 0.8331 - val_loss: 0.8138 - val_acc: 0.8427\n",
      "Epoch 16/20\n",
      "150/150 [==============================] - 1s 9ms/step - loss: 0.8152 - acc: 0.8371 - val_loss: 0.7800 - val_acc: 0.8468\n",
      "Epoch 17/20\n",
      "150/150 [==============================] - 1s 9ms/step - loss: 0.7834 - acc: 0.8407 - val_loss: 0.7499 - val_acc: 0.8497\n",
      "Epoch 18/20\n",
      "150/150 [==============================] - 1s 8ms/step - loss: 0.7551 - acc: 0.8443 - val_loss: 0.7229 - val_acc: 0.8522\n",
      "Epoch 19/20\n",
      "150/150 [==============================] - 1s 8ms/step - loss: 0.7296 - acc: 0.8470 - val_loss: 0.6987 - val_acc: 0.8557\n",
      "Epoch 20/20\n",
      "150/150 [==============================] - 1s 8ms/step - loss: 0.7066 - acc: 0.8497 - val_loss: 0.6767 - val_acc: 0.8575\n"
     ]
    }
   ],
   "source": [
    "model = keras.Sequential()\n",
    "model.add(keras.layers.Flatten(input_shape=input_shape, name=\"entrada\"))\n",
    "model.add(keras.layers.Dense(64, activation=activation, name=\"oculta\"))\n",
    "model.add(keras.layers.Dense(num_clases, activation=\"softmax\", name=\"salida\"))\n",
    "\n",
    "model.compile(optimizer=keras.optimizers.SGD(learning_rate=learning_rate),\n",
    "              loss=loss,\n",
    "              metrics=['acc'])\n",
    "\n",
    "# Callback a TensorBoard:\n",
    "callbacks = [keras.callbacks.TensorBoard(log_dir=log_dir+\"prueba-\"+nombre, histogram_freq=1, write_images=True)]\n",
    "\n",
    "# Entrenamiento del modelo:\n",
    "history = model.fit(train_images, \n",
    "                    train_labels, \n",
    "                    epochs=n_epochs, \n",
    "                    validation_data=(test_images, test_labels),\n",
    "                    batch_size=batch_size,\n",
    "                    callbacks=callbacks)"
   ]
  },
  {
   "attachments": {},
   "cell_type": "markdown",
   "metadata": {},
   "source": [
    "MODELO 2"
   ]
  },
  {
   "cell_type": "code",
   "execution_count": 5,
   "metadata": {},
   "outputs": [],
   "source": [
    "learning_rate = LEARNING_RATE_SMALL\n",
    "nombre = 'learning_rate_small'"
   ]
  },
  {
   "cell_type": "code",
   "execution_count": 6,
   "metadata": {},
   "outputs": [
    {
     "name": "stdout",
     "output_type": "stream",
     "text": [
      "Epoch 1/20\n",
      "150/150 [==============================] - 3s 12ms/step - loss: 2.4774 - acc: 0.0925 - val_loss: 2.4832 - val_acc: 0.0885\n",
      "Epoch 2/20\n",
      "150/150 [==============================] - 1s 9ms/step - loss: 2.4668 - acc: 0.0927 - val_loss: 2.4726 - val_acc: 0.0880\n",
      "Epoch 3/20\n",
      "150/150 [==============================] - 1s 9ms/step - loss: 2.4567 - acc: 0.0928 - val_loss: 2.4625 - val_acc: 0.0880\n",
      "Epoch 4/20\n",
      "150/150 [==============================] - 1s 9ms/step - loss: 2.4471 - acc: 0.0932 - val_loss: 2.4528 - val_acc: 0.0896\n",
      "Epoch 5/20\n",
      "150/150 [==============================] - 1s 8ms/step - loss: 2.4380 - acc: 0.0938 - val_loss: 2.4436 - val_acc: 0.0909\n",
      "Epoch 6/20\n",
      "150/150 [==============================] - 1s 9ms/step - loss: 2.4292 - acc: 0.0950 - val_loss: 2.4348 - val_acc: 0.0923\n",
      "Epoch 7/20\n",
      "150/150 [==============================] - 1s 9ms/step - loss: 2.4209 - acc: 0.0961 - val_loss: 2.4264 - val_acc: 0.0945\n",
      "Epoch 8/20\n",
      "150/150 [==============================] - 1s 9ms/step - loss: 2.4129 - acc: 0.0971 - val_loss: 2.4184 - val_acc: 0.0962\n",
      "Epoch 9/20\n",
      "150/150 [==============================] - 1s 8ms/step - loss: 2.4053 - acc: 0.0984 - val_loss: 2.4106 - val_acc: 0.0970\n",
      "Epoch 10/20\n",
      "150/150 [==============================] - 1s 8ms/step - loss: 2.3979 - acc: 0.0999 - val_loss: 2.4032 - val_acc: 0.0979\n",
      "Epoch 11/20\n",
      "150/150 [==============================] - 1s 8ms/step - loss: 2.3909 - acc: 0.1016 - val_loss: 2.3961 - val_acc: 0.1001\n",
      "Epoch 12/20\n",
      "150/150 [==============================] - 1s 9ms/step - loss: 2.3842 - acc: 0.1032 - val_loss: 2.3893 - val_acc: 0.1014\n",
      "Epoch 13/20\n",
      "150/150 [==============================] - 1s 9ms/step - loss: 2.3777 - acc: 0.1055 - val_loss: 2.3827 - val_acc: 0.1033\n",
      "Epoch 14/20\n",
      "150/150 [==============================] - 1s 9ms/step - loss: 2.3715 - acc: 0.1073 - val_loss: 2.3764 - val_acc: 0.1058\n",
      "Epoch 15/20\n",
      "150/150 [==============================] - 1s 8ms/step - loss: 2.3655 - acc: 0.1097 - val_loss: 2.3702 - val_acc: 0.1072\n",
      "Epoch 16/20\n",
      "150/150 [==============================] - 1s 9ms/step - loss: 2.3597 - acc: 0.1120 - val_loss: 2.3643 - val_acc: 0.1101\n",
      "Epoch 17/20\n",
      "150/150 [==============================] - 1s 9ms/step - loss: 2.3541 - acc: 0.1145 - val_loss: 2.3587 - val_acc: 0.1135\n",
      "Epoch 18/20\n",
      "150/150 [==============================] - 1s 8ms/step - loss: 2.3487 - acc: 0.1177 - val_loss: 2.3532 - val_acc: 0.1171\n",
      "Epoch 19/20\n",
      "150/150 [==============================] - 1s 9ms/step - loss: 2.3435 - acc: 0.1209 - val_loss: 2.3478 - val_acc: 0.1207\n",
      "Epoch 20/20\n",
      "150/150 [==============================] - 1s 9ms/step - loss: 2.3385 - acc: 0.1244 - val_loss: 2.3427 - val_acc: 0.1232\n"
     ]
    }
   ],
   "source": [
    "model = keras.Sequential()\n",
    "model.add(keras.layers.Flatten(input_shape=input_shape, name=\"entrada\"))\n",
    "model.add(keras.layers.Dense(64, activation=activation, name=\"oculta\"))\n",
    "model.add(keras.layers.Dense(num_clases, activation=\"softmax\", name=\"salida\"))\n",
    "\n",
    "model.compile(optimizer=keras.optimizers.SGD(learning_rate=learning_rate),\n",
    "              loss=loss,\n",
    "              metrics=['acc'])\n",
    "\n",
    "# Callback a TensorBoard:\n",
    "callbacks = [keras.callbacks.TensorBoard(log_dir=log_dir+\"prueba-\"+nombre, histogram_freq=1, write_images=True)]\n",
    "\n",
    "# Entrenamiento del modelo:\n",
    "history = model.fit(train_images, \n",
    "                    train_labels, \n",
    "                    epochs=n_epochs, \n",
    "                    validation_data=(test_images, test_labels),\n",
    "                    batch_size=batch_size,\n",
    "                    callbacks=callbacks)"
   ]
  },
  {
   "cell_type": "code",
   "execution_count": 7,
   "metadata": {},
   "outputs": [
    {
     "data": {
      "text/plain": [
       "Reusing TensorBoard on port 6006 (pid 4048), started 0:07:13 ago. (Use '!kill 4048' to kill it.)"
      ]
     },
     "metadata": {},
     "output_type": "display_data"
    },
    {
     "data": {
      "text/html": [
       "\n",
       "      <iframe id=\"tensorboard-frame-11affa27adb8646e\" width=\"100%\" height=\"800\" frameborder=\"0\">\n",
       "      </iframe>\n",
       "      <script>\n",
       "        (function() {\n",
       "          const frame = document.getElementById(\"tensorboard-frame-11affa27adb8646e\");\n",
       "          const url = new URL(\"http://localhost\");\n",
       "          const port = 6006;\n",
       "          if (port) {\n",
       "            url.port = port;\n",
       "          }\n",
       "          frame.src = url;\n",
       "        })();\n",
       "      </script>\n",
       "    "
      ],
      "text/plain": [
       "<IPython.core.display.HTML object>"
      ]
     },
     "metadata": {},
     "output_type": "display_data"
    }
   ],
   "source": [
    "%load_ext tensorboard\n",
    "#%reload_ext tensorboard\n",
    "%tensorboard --logdir logs"
   ]
  }
 ],
 "metadata": {
  "kernelspec": {
   "display_name": "ML_venv",
   "language": "python",
   "name": "python3"
  },
  "language_info": {
   "codemirror_mode": {
    "name": "ipython",
    "version": 3
   },
   "file_extension": ".py",
   "mimetype": "text/x-python",
   "name": "python",
   "nbconvert_exporter": "python",
   "pygments_lexer": "ipython3",
   "version": "3.9.13"
  },
  "orig_nbformat": 4,
  "vscode": {
   "interpreter": {
    "hash": "8b7910abbc5c6beb5902f03ac29be5a7fa5349172c0e21aa9b268418c0a868e2"
   }
  }
 },
 "nbformat": 4,
 "nbformat_minor": 2
}
